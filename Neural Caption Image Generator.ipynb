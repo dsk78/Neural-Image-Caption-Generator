{
 "cells": [
  {
   "cell_type": "markdown",
   "metadata": {
    "colab_type": "text",
    "id": "1IQbCRHm0eZ5"
   },
   "source": [
    "# Neural Caption Image Generator\n",
    "\n",
    "In this notebook I define and train an image-to-caption model, that can produce descriptions for real world images!\n",
    "\n",
    "This work is based on this paper [Show and Tell: A Neural Image Caption Generator](https://arxiv.org/abs/1411.4555) by Oriol Vinyals, Alexander Toshev, Samy Bengio and Dumitru Erhan. The authors combined recent computer vision and language models into a single jointly trained system, taking an image and directly producing a human readable sequence of words to describe it.\n",
    "\n",
    "So the model use a deep CNN for vision and RNN for language generation."
   ]
  },
  {
   "cell_type": "code",
   "execution_count": 1,
   "metadata": {
    "colab": {
     "base_uri": "https://localhost:8080/",
     "height": 34
    },
    "colab_type": "code",
    "id": "yUus01hizOwu",
    "outputId": "532846b8-7d40-493f-b8d5-1735316c4531"
   },
   "outputs": [
    {
     "name": "stdout",
     "output_type": "stream",
     "text": [
      "1.15.0\n"
     ]
    }
   ],
   "source": [
    "import os\n",
    "import re\n",
    "import time\n",
    "import json\n",
    "import tqdm\n",
    "import pickle\n",
    "import random\n",
    "import zipfile\n",
    "import unicodedata\n",
    "import collections\n",
    "\n",
    "import numpy as np\n",
    "import matplotlib.pyplot as plt\n",
    "import seaborn as sns\n",
    "\n",
    "import cv2\n",
    "\n",
    "from sklearn import metrics\n",
    "\n",
    "import tensorflow as tf\n",
    "from tensorflow import keras\n",
    "from tensorflow.keras import layers as L\n",
    "from tensorflow.keras import backend as K\n",
    "\n",
    "import warnings\n",
    "warnings.simplefilter(action='ignore', category=FutureWarning)\n",
    "warnings.simplefilter(action='ignore', category=DeprecationWarning)\n",
    "\n",
    "%matplotlib inline\n",
    "\n",
    "tf.compat.v1.logging.set_verbosity(tf.compat.v1.logging.ERROR)\n",
    "print(tf.__version__)"
   ]
  },
  {
   "cell_type": "markdown",
   "metadata": {
    "colab_type": "text",
    "id": "avDKknNc6SGn"
   },
   "source": [
    "## Download data"
   ]
  },
  {
   "cell_type": "code",
   "execution_count": 2,
   "metadata": {
    "colab": {
     "base_uri": "https://localhost:8080/",
     "height": 578
    },
    "colab_type": "code",
    "id": "Lgzo40CE5oCd",
    "outputId": "01ca22fd-2248-4934-da32-6dc7939f3049"
   },
   "outputs": [
    {
     "name": "stdout",
     "output_type": "stream",
     "text": [
      "--2020-01-09 00:38:15--  http://msvocds.blob.core.windows.net/coco2014/train2014.zip\n",
      "Resolving msvocds.blob.core.windows.net (msvocds.blob.core.windows.net)... 52.176.224.96\n",
      "Connecting to msvocds.blob.core.windows.net (msvocds.blob.core.windows.net)|52.176.224.96|:80... connected.\n",
      "HTTP request sent, awaiting response... 200 OK\n",
      "Length: 13510573713 (13G) [application/octet-stream]\n",
      "Saving to: ‘./data/train.zip’\n",
      "\n",
      "./data/train.zip    100%[===================>]  12.58G  14.7MB/s    in 13m 3s  \n",
      "\n",
      "2020-01-09 00:51:18 (16.5 MB/s) - ‘./data/train.zip’ saved [13510573713/13510573713]\n",
      "\n",
      "--2020-01-09 00:51:18--  http://msvocds.blob.core.windows.net/coco2014/val2014.zip\n",
      "Resolving msvocds.blob.core.windows.net (msvocds.blob.core.windows.net)... 52.176.224.96\n",
      "Connecting to msvocds.blob.core.windows.net (msvocds.blob.core.windows.net)|52.176.224.96|:80... connected.\n",
      "HTTP request sent, awaiting response... 200 OK\n",
      "Length: 6645013297 (6.2G) [application/octet-stream]\n",
      "Saving to: ‘./data/val.zip’\n",
      "\n",
      "./data/val.zip      100%[===================>]   6.19G  21.8MB/s    in 5m 35s  \n",
      "\n",
      "2020-01-09 00:56:54 (18.9 MB/s) - ‘./data/val.zip’ saved [6645013297/6645013297]\n",
      "\n",
      "--2020-01-09 00:56:54--  http://msvocds.blob.core.windows.net/annotations-1-0-3/captions_train-val2014.zip\n",
      "Resolving msvocds.blob.core.windows.net (msvocds.blob.core.windows.net)... 52.176.224.96\n",
      "Connecting to msvocds.blob.core.windows.net (msvocds.blob.core.windows.net)|52.176.224.96|:80... connected.\n",
      "HTTP request sent, awaiting response... 200 OK\n",
      "Length: 19673183 (19M) [application/octet-stream Charset=UTF-8]\n",
      "Saving to: ‘./data/caption.zip’\n",
      "\n",
      "./data/caption.zip  100%[===================>]  18.76M  38.6MB/s    in 0.5s    \n",
      "\n",
      "2020-01-09 00:56:55 (38.6 MB/s) - ‘./data/caption.zip’ saved [19673183/19673183]\n",
      "\n"
     ]
    }
   ],
   "source": [
    "if not os.path.exists('./data'):\n",
    "    os.mkdir('./data')\n",
    "\n",
    "!wget --no-check-certificate \\\n",
    "    \"http://msvocds.blob.core.windows.net/coco2014/train2014.zip\" \\\n",
    "    -O \"./data/train.zip\"\n",
    "!wget --no-check-certificate \\\n",
    "    \"http://msvocds.blob.core.windows.net/coco2014/val2014.zip\" \\\n",
    "    -O \"./data/val.zip\"\n",
    "!wget --no-check-certificate \\\n",
    "    \"http://msvocds.blob.core.windows.net/annotations-1-0-3/captions_train-val2014.zip\" \\\n",
    "    -O \"./data/caption.zip\"\n",
    "\n",
    "for local_zip in ['./data/train.zip', './data/val.zip', './data/caption.zip']:\n",
    "    zip_ref = zipfile.ZipFile(local_zip, 'r')\n",
    "    zip_ref.extractall('./data')\n",
    "    zip_ref.close()\n",
    "    \n",
    "    !rm -r {local_zip}"
   ]
  },
  {
   "cell_type": "code",
   "execution_count": 3,
   "metadata": {
    "colab": {
     "base_uri": "https://localhost:8080/",
     "height": 51
    },
    "colab_type": "code",
    "id": "SEQvUCkO6D47",
    "outputId": "7a464305-42fd-4fc0-cb4b-62f1b771bd8d"
   },
   "outputs": [
    {
     "name": "stdout",
     "output_type": "stream",
     "text": [
      "Number of training images: 82783\n",
      "Number of validating images: 40504\n"
     ]
    }
   ],
   "source": [
    "print('Number of training images:', len(os.listdir('./data/train2014')))\n",
    "print('Number of validating images:', len(os.listdir('./data/val2014')))"
   ]
  },
  {
   "cell_type": "code",
   "execution_count": 4,
   "metadata": {
    "colab": {
     "base_uri": "https://localhost:8080/",
     "height": 51
    },
    "colab_type": "code",
    "id": "LEqMv6QZ9kXY",
    "outputId": "ef73abf6-4608-472d-cad6-5aa717ac7d56"
   },
   "outputs": [
    {
     "name": "stdout",
     "output_type": "stream",
     "text": [
      "Number of training captions: 82783\n",
      "Number of validating captions: 40504\n"
     ]
    }
   ],
   "source": [
    "def load_caption(filename):\n",
    "    with open(filename) as captions:\n",
    "        data = json.load(captions)\n",
    "        image_id_to_image_filename = {\n",
    "            item['id']: item['file_name'] for item in data['images']}\n",
    "        image_filename_to_image_captions = collections.defaultdict(list)\n",
    "        for item in data['annotations']:\n",
    "            image_filename_to_image_captions[\n",
    "                image_id_to_image_filename[item['image_id']]].append(\n",
    "                    item['caption'].strip())\n",
    "        return image_filename_to_image_captions\n",
    "\n",
    "train_captions = load_caption('./data/annotations/captions_train2014.json')\n",
    "valid_captions = load_caption('./data/annotations/captions_val2014.json')\n",
    "\n",
    "print('Number of training captions:', len(train_captions))\n",
    "print('Number of validating captions:', len(valid_captions))"
   ]
  },
  {
   "cell_type": "code",
   "execution_count": 5,
   "metadata": {
    "colab": {
     "base_uri": "https://localhost:8080/",
     "height": 341
    },
    "colab_type": "code",
    "id": "CFzv8of2AvD6",
    "outputId": "3678006d-67e1-431e-cb3e-a813a1a1704a"
   },
   "outputs": [
    {
     "data": {
      "image/png": "[encoded data removed]",
      "text/plain": [
       "<Figure size 432x288 with 1 Axes>"
      ]
     },
     "metadata": {
      "needs_background": "light"
     },
     "output_type": "display_data"
    }
   ],
   "source": [
    "def show_random_training_example(captions):\n",
    "    idx = np.random.randint(0, len(captions))\n",
    "    image_filename = os.listdir('./data/train2014')[idx]\n",
    "    image = cv2.imread('./data/train2014/' + image_filename, cv2.IMREAD_COLOR)\n",
    "    image = cv2.cvtColor(image, cv2.COLOR_BGR2RGB)\n",
    "    \n",
    "    plt.imshow(image)\n",
    "    plt.title('\\n'.join(captions[image_filename]))\n",
    "    plt.show()\n",
    "\n",
    "show_random_training_example(train_captions)"
   ]
  },
  {
   "cell_type": "markdown",
   "metadata": {
    "colab_type": "text",
    "id": "2DbRpBxKBkxI"
   },
   "source": [
    "# Process captions for training"
   ]
  },
  {
   "cell_type": "code",
   "execution_count": 8,
   "metadata": {
    "colab": {
     "base_uri": "https://localhost:8080/",
     "height": 34
    },
    "colab_type": "code",
    "id": "RG6BDP1QOjBU",
    "outputId": "8bf0a4de-9cdd-407f-bf0d-830b2248f769"
   },
   "outputs": [
    {
     "data": {
      "text/plain": [
       "('Montreal, Francoise...', \"aa isn ' t 123 aa ! s s dd ? \")"
      ]
     },
     "execution_count": 8,
     "metadata": {},
     "output_type": "execute_result"
    }
   ],
   "source": [
    "def unicode_to_ascii(s):\n",
    "    # NFD => Normal Form Decompose\n",
    "    # Mn => Non Marking Space\n",
    "    return ''.join(c for c in unicodedata.normalize('NFD', s) \\\n",
    "                    if unicodedata.category(c) != 'Mn')\n",
    "\n",
    "def normalize_string(s):\n",
    "    s = unicode_to_ascii(s.lower().strip())\n",
    "    # Replace any of '.', '!', '?' by ' .', ' !', ' ?'.\n",
    "    # \\1 means the 1st bracked group. r is to not consider \\1\n",
    "    s = re.sub(r\"([',.!?])\", r' \\1 ', s)\n",
    "    # Remove any character which is not in [^a-zA-Z.!?]\n",
    "    s = re.sub(r\"[^a-zA-Z1-9',.!?]\", r' ', s)\n",
    "    # Remove a sequence of whitespace characters\n",
    "    s = re.sub(r'\\s+', r' ', s)\n",
    "    return s\n",
    "\n",
    "unicode_to_ascii('Montréal, Françoise...'), normalize_string(\"aa isn't 123 aa!s^s dd?\")"
   ]
  },
  {
   "cell_type": "code",
   "execution_count": 9,
   "metadata": {
    "colab": {
     "base_uri": "https://localhost:8080/",
     "height": 85
    },
    "colab_type": "code",
    "id": "y8TfB2y3BITB",
    "outputId": "15ee7e81-0836-42a3-8741-dbc9fadf8e99"
   },
   "outputs": [
    {
     "name": "stderr",
     "output_type": "stream",
     "text": [
      "Get all image captions in a list: 100%|██████████| 82783/82783 [00:11<00:00, 7109.33it/s]\n"
     ]
    },
    {
     "data": {
      "text/plain": [
       "['some people riding motorcycles on the streets with others . ',\n",
       " 'two people driving motorcycles down a city street , one riding with a child . ',\n",
       " 'a man and a woman on their scooters riding down the road . ']"
      ]
     },
     "execution_count": 9,
     "metadata": {},
     "output_type": "execute_result"
    }
   ],
   "source": [
    "captions = []\n",
    "for image in tqdm.tqdm(os.listdir('./data/train2014'),\n",
    "                       'Get all image captions in a list'):\n",
    "    for caption in train_captions[image]:\n",
    "        captions.append(normalize_string(caption))\n",
    "        \n",
    "captions[:3]"
   ]
  },
  {
   "cell_type": "code",
   "execution_count": 10,
   "metadata": {
    "colab": {},
    "colab_type": "code",
    "id": "BIleYSVCBzpf"
   },
   "outputs": [],
   "source": [
    "PAD_TOKEN = 0\n",
    "SOS_TOKEN = 1\n",
    "EOS_TOKEN = 2\n",
    "UNK_TOKEN = 3\n",
    "\n",
    "class Vocabulary:\n",
    "\n",
    "    def __init__(self, name):\n",
    "        self.name = name\n",
    "        self.word2index = {}\n",
    "        self.index2word = {PAD_TOKEN: 'PAD',\n",
    "                           SOS_TOKEN: 'SOS',\n",
    "                           EOS_TOKEN: 'EOS',\n",
    "                           UNK_TOKEN: 'UNK'}\n",
    "        self.word2count = {}\n",
    "        self.num_words = 4\n",
    "\n",
    "    def add_word(self, word):\n",
    "        if word in self.word2count.keys():\n",
    "            self.word2count[word] += 1\n",
    "        else:\n",
    "            self.word2index[word] = self.num_words\n",
    "            self.index2word[self.num_words] = word\n",
    "            self.word2count[word] = 1\n",
    "            self.num_words +=1\n",
    "\n",
    "    def add_sentence(self, sentence):\n",
    "        for word in sentence.split():\n",
    "            self.add_word(word)\n",
    "\n",
    "    def trim(self, min_count):\n",
    "        '''Remove words below a certain count threshold'''\n",
    "        keep_words = []\n",
    "        for k, v in self.word2count.items():\n",
    "            if v >= min_count:\n",
    "                keep_words.append(k)\n",
    "        \n",
    "        print(f'Keeping {len(keep_words)} over {len(self.word2index)} '\n",
    "                f'=> {(len(keep_words) / len(self.word2index) * 100):.2f}%')\n",
    "        \n",
    "        self.word2index = {}\n",
    "        self.index2word = {PAD_TOKEN: 'PAD',\n",
    "                           SOS_TOKEN: 'SOS',\n",
    "                           EOS_TOKEN: 'EOS',\n",
    "                           UNK_TOKEN: 'UNK'}\n",
    "        self.word2count = {}\n",
    "        self.num_words = 4\n",
    "        \n",
    "        for word in keep_words:\n",
    "            self.add_word(word)"
   ]
  },
  {
   "cell_type": "code",
   "execution_count": 11,
   "metadata": {
    "colab": {
     "base_uri": "https://localhost:8080/",
     "height": 34
    },
    "colab_type": "code",
    "id": "8XrmPk7jCE-4",
    "outputId": "d75d459d-76f0-4585-9581-bee52ce9722f"
   },
   "outputs": [
    {
     "name": "stderr",
     "output_type": "stream",
     "text": [
      "Build a vocabulary: 100%|██████████| 414113/414113 [00:02<00:00, 164774.89it/s]\n"
     ]
    }
   ],
   "source": [
    "vocab = Vocabulary(name='image captioning')\n",
    "for caption in tqdm.tqdm(captions, 'Build a vocabulary'):\n",
    "    vocab.add_sentence(caption)"
   ]
  },
  {
   "cell_type": "code",
   "execution_count": 12,
   "metadata": {
    "colab": {
     "base_uri": "https://localhost:8080/",
     "height": 51
    },
    "colab_type": "code",
    "id": "ih8R6ZXXFfPY",
    "outputId": "48a56725-18df-415b-dbe8-d1b30a5ffdfa"
   },
   "outputs": [
    {
     "name": "stdout",
     "output_type": "stream",
     "text": [
      "Keeping 8762 over 23053 => 38.01%\n",
      "Length of the vocabulary 8766\n"
     ]
    }
   ],
   "source": [
    "vocab.trim(min_count=5)\n",
    "print('Length of the vocabulary', vocab.num_words)"
   ]
  },
  {
   "cell_type": "code",
   "execution_count": 22,
   "metadata": {
    "colab": {
     "base_uri": "https://localhost:8080/",
     "height": 34
    },
    "colab_type": "code",
    "id": "8bkv8VkjFkaV",
    "outputId": "f0f57898-19ee-42aa-f351-23058ab5a2ee"
   },
   "outputs": [
    {
     "name": "stderr",
     "output_type": "stream",
     "text": [
      "Convert image captions to sequences: 100%|██████████| 82783/82783 [00:14<00:00, 5826.19it/s]\n",
      "Convert image captions to sequences: 100%|██████████| 40504/40504 [00:07<00:00, 5705.86it/s]\n"
     ]
    }
   ],
   "source": [
    "def captions_to_sequences(image_captions, vocabulary):\n",
    "    image_caption_sequences = {}\n",
    "    for image, captions in tqdm.tqdm(image_captions.items(),\n",
    "                                     'Convert image captions to sequences'):\n",
    "        caption_sequences = []\n",
    "        for caption in captions:\n",
    "            sequence = [vocabulary.word2index[word]\n",
    "                        if word in vocabulary.word2index \n",
    "                        else UNK_TOKEN \n",
    "                        for word in normalize_string(caption).split()]\n",
    "            caption_sequences.append([SOS_TOKEN] + sequence + [EOS_TOKEN])\n",
    "        image_caption_sequences[image] = caption_sequences\n",
    "    return image_caption_sequences\n",
    "\n",
    "train_caption_sequences = captions_to_sequences(train_captions, vocab)\n",
    "valid_caption_sequences = captions_to_sequences(valid_captions, vocab)"
   ]
  },
  {
   "cell_type": "code",
   "execution_count": 23,
   "metadata": {
    "colab": {
     "base_uri": "https://localhost:8080/",
     "height": 102
    },
    "colab_type": "code",
    "id": "3VdHuH2TGiLe",
    "outputId": "c465fceb-6c22-499d-c935-7c458f4f0b09"
   },
   "outputs": [
    {
     "data": {
      "text/plain": [
       "[[1, 9, 14, 5, 29, 68, 16, 9, 394, 13, 2],\n",
       " [1, 14, 5, 367, 359, 2013, 8, 17, 394, 13, 2],\n",
       " [1, 14, 1936, 62, 17, 58, 3, 394, 11, 2617, 13, 2],\n",
       " [1, 17, 33, 62, 9, 394, 68, 11, 26, 359, 2013, 13, 2],\n",
       " [1, 17, 544, 24, 17, 398, 29, 68, 8, 9, 394, 231, 2617, 13, 2]]"
      ]
     },
     "execution_count": 23,
     "metadata": {},
     "output_type": "execute_result"
    }
   ],
   "source": [
    "train_caption_sequences['COCO_train2014_000000134754.jpg']"
   ]
  },
  {
   "cell_type": "code",
   "execution_count": 31,
   "metadata": {},
   "outputs": [],
   "source": [
    "def pad_sequences(sequences):\n",
    "    sequences_padded = []\n",
    "    max_len = max(map(len, sequences))\n",
    "    for sequence in sequences:\n",
    "        if len(sequence) < max_len:\n",
    "            pad = [PAD_TOKEN for _ in range(max_len - len(sequence))]\n",
    "            sequences_padded.append(sequence + pad)\n",
    "        else:\n",
    "            sequences_padded.append(sequence)\n",
    "    return np.array(sequences_padded)"
   ]
  },
  {
   "cell_type": "code",
   "execution_count": 64,
   "metadata": {},
   "outputs": [
    {
     "data": {
      "text/plain": [
       "array([[   1,    9,   14,    5,   29,   68,   16,    9,  394,   13,    2,\n",
       "           0,    0,    0,    0],\n",
       "       [   1,   14,    5,  367,  359, 2013,    8,   17,  394,   13,    2,\n",
       "           0,    0,    0,    0],\n",
       "       [   1,   14, 1936,   62,   17,   58,    3,  394,   11, 2617,   13,\n",
       "           2,    0,    0,    0],\n",
       "       [   1,   17,   33,   62,    9,  394,   68,   11,   26,  359, 2013,\n",
       "          13,    2,    0,    0],\n",
       "       [   1,   17,  544,   24,   17,  398,   29,   68,    8,    9,  394,\n",
       "         231, 2617,   13,    2]])"
      ]
     },
     "execution_count": 64,
     "metadata": {},
     "output_type": "execute_result"
    }
   ],
   "source": [
    "pad_sequences(train_caption_sequences['COCO_train2014_000000134754.jpg'])"
   ]
  },
  {
   "cell_type": "code",
   "execution_count": 74,
   "metadata": {},
   "outputs": [],
   "source": [
    "def sequences_to_texts(sequences, vocabulary):\n",
    "    texts = []\n",
    "    for sequence in sequences:\n",
    "        text = [*map(lambda index: vocabulary.index2word[index], sequence.tolist())]\n",
    "        texts.append(' '.join(text))\n",
    "    return texts"
   ]
  },
  {
   "cell_type": "code",
   "execution_count": 75,
   "metadata": {},
   "outputs": [
    {
     "data": {
      "text/plain": [
       "['SOS the two people are walking down the beach . EOS PAD PAD PAD PAD',\n",
       " 'SOS two people carrying surf boards on a beach . EOS PAD PAD PAD PAD',\n",
       " 'SOS two teenagers at a white UNK beach with surfboards . EOS PAD PAD PAD',\n",
       " 'SOS a couple at the beach walking with their surf boards . EOS PAD PAD',\n",
       " 'SOS a guy and a girl are walking on the beach holding surfboards . EOS']"
      ]
     },
     "execution_count": 75,
     "metadata": {},
     "output_type": "execute_result"
    }
   ],
   "source": [
    "sequences_to_texts(pad_sequences(train_caption_sequences['COCO_train2014_000000134754.jpg']), vocab)"
   ]
  },
  {
   "cell_type": "markdown",
   "metadata": {},
   "source": [
    "## Model Architecture"
   ]
  },
  {
   "cell_type": "code",
   "execution_count": 34,
   "metadata": {},
   "outputs": [],
   "source": [
    "def reset_tf_session():\n",
    "    current_session = tf.get_default_session()\n",
    "    if current_session is not None: # Close the current session\n",
    "        current_session.close()\n",
    "    K.clear_session() # Reset graph\n",
    "    # Create a new session\n",
    "    config = tf.ConfigProto()\n",
    "    config.gpu_options.allow_growth = True\n",
    "    session = tf.InteractiveSession(config=config)\n",
    "    K.set_session(session)\n",
    "    return session\n",
    "\n",
    "def image_center_crop(image):\n",
    "    height, width, _ = image.shape\n",
    "    size = min(width, height)\n",
    "    pad_h, pad_w = (height - size) // 2, (width - size) // 2\n",
    "    image_cropped = image[pad_h:pad_h + size, pad_w:pad_w + size, :]\n",
    "    assert image_cropped.shape[0] == image_cropped.shape[1], f'Error in cropping image! {image_cropped.shape}'\n",
    "    return image_cropped\n",
    "\n",
    "def image_process(image, shape, preprocess_for_model):\n",
    "    image = image_center_crop(image)\n",
    "    image = cv2.resize(image, shape)\n",
    "    image = image.astype('float32')\n",
    "    image = preprocess_for_model(image)\n",
    "    return image\n",
    "\n",
    "def encode_images(images_path, shape, model, preprocess_for_model):\n",
    "    encoded_images, filename_images = [], []\n",
    "    for image_filename in tqdm.tqdm(os.listdir(images_path), f'Encode images in {images_path}'):\n",
    "        image = cv2.imread(images_path + image_filename, cv2.IMREAD_COLOR)\n",
    "        image = cv2.cvtColor(image, cv2.COLOR_BGR2RGB)\n",
    "        image = image_process(image, shape, preprocess_for_model)\n",
    "        encoded_image = model.predict(np.expand_dims(image, axis=0)) # Input image shape: (None, w, h, c)\n",
    "        encoded_images.append(encoded_image)\n",
    "        filename_images.append(image_filename)\n",
    "    encoded_images = np.vstack(encoded_images)\n",
    "    return encoded_images, filename_images\n",
    "\n",
    "def save_pickle(obj, path):\n",
    "    with open(path, 'wb') as pickle_file:\n",
    "        pickle.dump(obj, pickle_file, protocol=pickle.HIGHEST_PROTOCOL)\n",
    "\n",
    "def read_pickle(path):\n",
    "    with open(path, 'rb') as pickle_file:\n",
    "        return pickle.load(pickle_file)\n",
    "\n",
    "def get_encoder():\n",
    "    K.set_learning_phase(False)\n",
    "    base_model = keras.applications.InceptionV3(include_top=False)\n",
    "    model = keras.models.Model(inputs=base_model.input,\n",
    "                               outputs=L.GlobalAveragePooling2D()(base_model.output))\n",
    "    return model, keras.applications.inception_v3.preprocess_input"
   ]
  },
  {
   "cell_type": "code",
   "execution_count": 35,
   "metadata": {},
   "outputs": [
    {
     "name": "stdout",
     "output_type": "stream",
     "text": [
      "Downloading data from https://github.com/fchollet/deep-learning-models/releases/download/v0.5/inception_v3_weights_tf_dim_ordering_tf_kernels_notop.h5\n",
      "87916544/87910968 [==============================] - 1s 0us/step\n"
     ]
    },
    {
     "name": "stderr",
     "output_type": "stream",
     "text": [
      "Encode images in ./data/train2014/: 100%|██████████| 82783/82783 [10:12:38<00:00,  2.25it/s]  \n",
      "Encode images in ./data/val2014/: 100%|██████████| 40504/40504 [5:01:02<00:00,  2.24it/s]  \n"
     ]
    }
   ],
   "source": [
    "IMG_SIZE = 299\n",
    "\n",
    "# Get the Inception model\n",
    "reset_tf_session()\n",
    "encoder, preprocess_input = get_encoder()\n",
    "\n",
    "# Encode images\n",
    "train_img_enc, train_img_fns = encode_images('./data/train2014/', (IMG_SIZE, IMG_SIZE), encoder, preprocess_input)\n",
    "valid_img_enc, valid_img_fns = encode_images('./data/val2014/', (IMG_SIZE, IMG_SIZE), encoder, preprocess_input)\n",
    "\n",
    "# Save encoded images in order to reuse them\n",
    "save_pickle(train_img_enc, './data/encoded/train_img_enc.pickle')\n",
    "save_pickle(valid_img_enc, './data/encoded/valid_img_enc.pickle')\n",
    "save_pickle(train_img_fns, './data/encoded/train_img_fns.pickle')\n",
    "save_pickle(valid_img_fns, './data/encoded/valid_img_fns.pickle')"
   ]
  },
  {
   "cell_type": "code",
   "execution_count": 36,
   "metadata": {},
   "outputs": [
    {
     "name": "stdout",
     "output_type": "stream",
     "text": [
      "(82783, 2048) 82783\n",
      "(40504, 2048) 40504\n"
     ]
    }
   ],
   "source": [
    "# Restore encoded images\n",
    "train_img_enc = read_pickle('./data/encoded/train_img_enc.pickle')\n",
    "train_img_fns = read_pickle('./data/encoded/train_img_fns.pickle')\n",
    "valid_img_enc = read_pickle('./data/encoded/valid_img_enc.pickle')\n",
    "valid_img_fns = read_pickle('./data/encoded/valid_img_fns.pickle')\n",
    "\n",
    "# check shapes\n",
    "print(train_img_enc.shape, len(train_img_fns))\n",
    "print(valid_img_enc.shape, len(valid_img_fns))"
   ]
  },
  {
   "cell_type": "markdown",
   "metadata": {},
   "source": [
    "## LSTM Decoder"
   ]
  },
  {
   "cell_type": "code",
   "execution_count": 42,
   "metadata": {},
   "outputs": [],
   "source": [
    "class DecoderLSTM:\n",
    "    \n",
    "    def __init__(self, vocabulary,\n",
    "                 img_enc_size=2048, lstm_units=256,\n",
    "                 caption_embed_size=128,\n",
    "                 img_bottleneck_size=128,\n",
    "                 logits_bottleneck_size=128):\n",
    "        self.lstm_units = lstm_units \n",
    "        self.img_enc_size = img_enc_size \n",
    "        \n",
    "        # We use a bottleneck in order to reduce encoded image size from img_enc_size to img_bottleneck_size\n",
    "        self.img_enc_to_bottleneck = L.Dense(img_bottleneck_size, activation='elu',\n",
    "                                             input_shape=(None, img_enc_size))\n",
    "        # This layer outs the LSTM initial state\n",
    "        self.bottleneck_to_h0 = L.Dense(lstm_units, activation='elu',\n",
    "                                        input_shape=(None, img_bottleneck_size))\n",
    "        # Captions embedding\n",
    "        self.embed_captions = L.Embedding(vocabulary.num_words, caption_embed_size)\n",
    "        # LSTM Cell\n",
    "        self.lstm_cell = tf.nn.rnn_cell.LSTMCell(lstm_units) # [batch_size, time_steps, lstm_units]\n",
    "        # Logits bottleneck in order to reduce the dimension of the lstm output\n",
    "        self.logits_bottleneck = L.Dense(logits_bottleneck_size, activation='elu',\n",
    "                                         input_shape=(None, lstm_units))\n",
    "        # Logits\n",
    "        self.logits = L.Dense(vocabulary.num_words,  activation='elu', \n",
    "                              input_shape=(None, logits_bottleneck_size))\n",
    "        \n",
    "    def __call__(self, img_enc, captions):\n",
    "        c0 = h0 = self.bottleneck_to_h0(self.img_enc_to_bottleneck(img_enc)) # State and memory\n",
    "        captions_embed = self.embed_captions(captions[:, :-1])\n",
    "        # Dynamic rnn allows inputs to have different lengths (number of time steps)\n",
    "        hidden_states, _ = tf.nn.dynamic_rnn(self.lstm_cell, captions_embed,\n",
    "                                             initial_state=tf.nn.rnn_cell.LSTMStateTuple(c0, h0))\n",
    "        hidden_states_flatten = tf.reshape(hidden_states, [-1, self.lstm_units])\n",
    "        logits = self.logits(self.logits_bottleneck(hidden_states_flatten))\n",
    "        return logits"
   ]
  },
  {
   "cell_type": "code",
   "execution_count": 44,
   "metadata": {},
   "outputs": [],
   "source": [
    "# to make training reproducible\n",
    "np.random.seed(79)\n",
    "\n",
    "def generate_batch(data, batch_size):\n",
    "    img_enc, img_fn, captions = data\n",
    "    while True:\n",
    "        # Images\n",
    "        batch_indexes = np.random.choice(len(img_enc), size=batch_size, replace=False)\n",
    "        batch_img_enc = img_enc[batch_indexes]\n",
    "\n",
    "        # Captions\n",
    "        batch_captions = []\n",
    "        for index in batch_indexes:\n",
    "            fn = img_fn[index]\n",
    "            caption = captions[fn][np.random.randint(len(captions[fn]))]\n",
    "            batch_captions.append(caption)\n",
    "\n",
    "        # Apply padding to captions\n",
    "        batch_captions_padded = pad_sequences(batch_captions)\n",
    "        yield batch_img_enc, batch_captions_padded"
   ]
  },
  {
   "cell_type": "code",
   "execution_count": 82,
   "metadata": {},
   "outputs": [],
   "source": [
    "def train_model(decoder, train_data, valid_data,\n",
    "                vocabulary=vocab, pad_token=PAD_TOKEN,\n",
    "                n_epochs=12, batch_size=64,\n",
    "                n_batches_per_epoch=1000, n_valid_batches=100):\n",
    "    \"\"\"\n",
    "    train_data and valid_data are tuples like this (img_enc, img_fns, caption_seq)\n",
    "    \"\"\"\n",
    "    img_enc_placeholder = tf.placeholder(tf.float32, [None, decoder.img_enc_size]) # [batch_size, 2048]\n",
    "    captions_placeholder = tf.placeholder(tf.int32, [None, None]) # [batch_size, time_steps]\n",
    "    \n",
    "    logits = decoder(img_enc_placeholder, captions_placeholder)\n",
    "    truth_captions = tf.reshape(captions_placeholder[:, 1:], [-1])\n",
    "    loss_mask = tf.not_equal(truth_captions, pad_token)\n",
    "    \n",
    "    xent = tf.nn.sparse_softmax_cross_entropy_with_logits(labels=truth_captions, logits=logits)\n",
    "    loss = tf.reduce_mean(tf.boolean_mask(xent, loss_mask))\n",
    "    \n",
    "    optimizer = tf.train.AdamOptimizer(learning_rate=0.01)\n",
    "    step = optimizer.minimize(loss)\n",
    "    \n",
    "    train_batch = generate_batch(train_data, batch_size)\n",
    "    valid_batch = generate_batch(valid_data, batch_size)\n",
    "    \n",
    "    # Training\n",
    "    sess.run(tf.global_variables_initializer())\n",
    "    saver = tf.train.Saver()\n",
    "    for epoch in range(n_epochs):\n",
    "        train_loss, valid_loss, count = 0, 0, 1\n",
    "        progress_bar = tqdm.tqdm_notebook(range(n_batches_per_epoch))\n",
    "        for _ in progress_bar:\n",
    "            batch_img_enc, batch_captions = next(train_batch)\n",
    "            l, _ = sess.run([loss, step], feed_dict={\n",
    "                img_enc_placeholder: batch_img_enc,\n",
    "                captions_placeholder: batch_captions\n",
    "            }) \n",
    "            train_loss += l\n",
    "            count += 1\n",
    "            progress_bar.set_description(f'Batch: {count-1:3d}, train loss: {train_loss / count:.4f}')\n",
    "            train_loss /= n_batches_per_epoch\n",
    "            \n",
    "        progress_bar = tqdm.tqdm_notebook(range(n_valid_batches))\n",
    "        for _ in progress_bar:\n",
    "            # Use globals variables\n",
    "            batch_img_enc, batch_captions = next(valid_batch)\n",
    "            valid_loss += sess.run(loss, feed_dict={\n",
    "                img_enc_placeholder: batch_img_enc,\n",
    "                captions_placeholder: batch_captions\n",
    "            }) \n",
    "        valid_loss /= n_valid_batches\n",
    "        saver.save(sess, f'./data/weights/weights_{epoch}')\n",
    "        print(f'Epoch: {epoch:2d} - train loss: {train_loss:.4f} - valid loss: {valid_loss:.4f}')\n",
    "        \n",
    "        batch_img_enc, batch_captions = next(valid_batch)\n",
    "        pred_logits = logits.eval({\n",
    "            img_enc_placeholder: batch_img_enc,\n",
    "            captions_placeholder: batch_captions\n",
    "        })\n",
    "        truth = truth_captions.eval({\n",
    "            img_enc_placeholder: batch_img_enc,\n",
    "            captions_placeholder: batch_captions\n",
    "        })\n",
    "        mask = loss_mask.eval({\n",
    "            img_enc_placeholder: batch_img_enc,\n",
    "            captions_placeholder: batch_captions\n",
    "        }).astype(bool)\n",
    "        print(\"Loss:\", loss.eval({\n",
    "            img_enc_placeholder: batch_img_enc,\n",
    "            captions_placeholder: batch_captions\n",
    "        }))\n",
    "        print(\"Accuracy:\", metrics.accuracy_score(pred_logits.argmax(axis=1)[mask], truth[mask]))\n",
    "\n",
    "        pred_captions = pred_logits.argmax(axis=1).reshape((batch_size, -1))\n",
    "        true_captions = truth.reshape((batch_size, -1))\n",
    "        for idx in range(3):\n",
    "            print(\"Example\", idx)\n",
    "            print(\"Predicted:\", ' '.join(sequences_to_texts([pred_captions[idx]], vocabulary)))\n",
    "            print(\"Truth:\", ' '.join(sequences_to_texts([true_captions[idx]], vocabulary)))\n",
    "            print()\n",
    "            \n",
    "        print('Training Finished!')\n",
    "        return saver"
   ]
  },
  {
   "cell_type": "code",
   "execution_count": null,
   "metadata": {},
   "outputs": [
    {
     "data": {
      "application/vnd.jupyter.widget-view+json": {
       "model_id": "ddeb2a14fc8a4dbda2701536d833469a",
       "version_major": 2,
       "version_minor": 0
      },
      "text/plain": [
       "HBox(children=(FloatProgress(value=0.0, max=1000.0), HTML(value='')))"
      ]
     },
     "metadata": {},
     "output_type": "display_data"
    }
   ],
   "source": [
    "sess = reset_tf_session()\n",
    "decoder_rnn = DecoderLSTM(vocabulary=vocab)\n",
    "saver = train_model(decoder=decoder_rnn, n_batches_per_epoch=1000, n_valid_batches=100,\n",
    "                    train_data=(train_img_enc, train_img_fns, train_caption_sequences),\n",
    "                    valid_data=(valid_img_enc, valid_img_fns, valid_caption_sequences))"
   ]
  },
  {
   "cell_type": "code",
   "execution_count": null,
   "metadata": {},
   "outputs": [],
   "source": [
    "class ModelInference:\n",
    "    \n",
    "    def __init__(encoder, decoder, img_size=IMG_SIZE):\n",
    "        self.encoder = encoder\n",
    "        self.decoder = decoder\n",
    "        \n",
    "        # containers for current lstm state\n",
    "        self.lstm_c = tf.Variable(tf.zeros([1, self.decoder.lstm_units]), name='cell')\n",
    "        self.lstm_h = tf.Variable(tf.zeros([1, self.decoder.lstm_units]), name='hidden')\n",
    "        \n",
    "        # Input image\n",
    "        self.img = tf.placeholder(tf.float32, [1, img_size, img_size, 3], name='img')\n",
    "                \n",
    "        # Current word index\n",
    "        self.current_word = tf.placeholder(tf.int32, [1], name='current_input')\n",
    "        \n",
    "        # Get image encoded\n",
    "        img_enc = self.encoder(self.img)\n",
    "        \n",
    "        # Initialize lstm state conditioned on the encoded image\n",
    "        init_c = init_h = self.decoder.bottleneck_to_h0(self.decoder.img_enc_to_bottleneck(img_enc))\n",
    "        self.init_lstm = tf.assign(self.lstm_c, init_c), tf.assign(self.lstm_h, init_h)\n",
    "        \n",
    "        # embedding for current word\n",
    "        word_embed = self.decoder.embed_captions(self.current_word)\n",
    "        \n",
    "        # Apply lstm cell and get the new lstm states\n",
    "        new_c, new_h = self.decoder.lstm_cell(word_embed,\n",
    "                                              tf.nn.rnn_cell.LSTMStateTuple(self.lstm_c, self.lstm_h))[1]\n",
    "        \n",
    "        # compute logits for next token\n",
    "        new_logits = self.decoder.logits(self.decoder.logits_bottleneck(new_h))\n",
    "        \n",
    "        # compute probabilities for next token\n",
    "        new_probs = tf.nn.softmax(new_logits)\n",
    "\n",
    "        # `step` outputs probabilities of next token and updates lstm hidden state\n",
    "        self.step = new_probs, tf.assign(self.lstm_c, new_c), tf.assign(self.lstm_h, new_h)\n",
    "        \n",
    "    def predict(self, image, max_len=30, sample=False, t=1):\n",
    "        pass"
   ]
  }
 ],
 "metadata": {
  "accelerator": "TPU",
  "colab": {
   "collapsed_sections": [],
   "name": "Neural Caption Image Generator.ipynb",
   "provenance": []
  },
  "kernelspec": {
   "display_name": "Python 3",
   "language": "python",
   "name": "python3"
  },
  "language_info": {
   "codemirror_mode": {
    "name": "ipython",
    "version": 3
   },
   "file_extension": ".py",
   "mimetype": "text/x-python",
   "name": "python",
   "nbconvert_exporter": "python",
   "pygments_lexer": "ipython3",
   "version": "3.7.6"
  }
 },
 "nbformat": 4,
 "nbformat_minor": 1
}
